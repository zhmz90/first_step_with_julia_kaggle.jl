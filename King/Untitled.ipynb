{
 "cells": [
  {
   "cell_type": "code",
   "execution_count": 1,
   "metadata": {
    "collapsed": false
   },
   "outputs": [
    {
     "name": "stdout",
     "output_type": "stream",
     "text": [
      "/home/guo/haplox/Github/first_step_with_julia_kaggle/data/data/trainResized/284.Bmp\n",
      "/home/guo/haplox/Github/first_step_with_julia_kaggle/data/data/trainResized/2290.Bmp\n",
      "/home/guo/haplox/Github/first_step_with_julia_kaggle/data/data/trainResized/3136.Bmp\n",
      "/home/guo/haplox/Github/first_step_with_julia_kaggle/data/data/testResized/7318.Bmp\n",
      "/home/guo/haplox/Github/first_step_with_julia_kaggle/data/data/testResized/12150.Bmp\n",
      "[8, 55, 44, 53, 58, 47, 21, 46, 42]\n",
      "['8', 'T', 'I', 'R', 'W', 'L', 'l', 'K', 'G']\n",
      "     ID Class\n",
      "0  6284     A\n",
      "1  6285     A\n",
      "2  6286     A\n",
      "3  6287     A\n",
      "4  6288     A\n",
      "(6283, 20, 20, 3)\n",
      "(6283,)\n"
     ]
    }
   ],
   "source": [
    "import string\n",
    "import pandas as pd\n",
    "import numpy as np\n",
    "from numpy.random import shuffle\n",
    "#import skimage.io import imread\n",
    "from scipy.misc import imread\n",
    "import tensorflow as tf\n",
    "\n",
    "tf.app.flags.DEFINE_boolean(\"debug\", True, \"for debug models\")\n",
    "tf.app.flags.DEFINE_boolean(\"use_fp16\", False, \"data type\")\n",
    "FLAGS = tf.app.flags.FLAGS\n",
    "\n",
    "\n",
    "data_dir = \"/home/guo/haplox/Github/first_step_with_julia_kaggle/data/data\"\n",
    "image_size = 400\n",
    "labels = string.digits + string.lowercase + string.uppercase\n",
    "label_dict = {l:i for (i,l) in enumerate(labels)}\n",
    "num_class = len(labels) # 62\n",
    "\n",
    "def data_type():\n",
    "    if FLAGS.use_fp16:\n",
    "        return tf.float16\n",
    "    else:\n",
    "        return tf.float32\n",
    "\n",
    "def read_data(type_data, labels_info, path):\n",
    "    x = np.zeros((labels_info.shape[0], 20, 20, 3)) # 20 x 20 x 3 image\n",
    "    for (index, id_image) in enumerate(labels_info[\"ID\"]):\n",
    "        file_name = \"{0}/{1}Resized/{2}.Bmp\".format(path, type_data, id_image)\n",
    "        img = imread(file_name)\n",
    "        try:\n",
    "            x[index,:] = img\n",
    "        except:\n",
    "            print(file_name)\n",
    "    return x\n",
    "\n",
    "\n",
    "# Read train matrix\n",
    "labels_info_train = pd.read_csv(\"{0}/trainLabels.csv\".format(data_dir))\n",
    "xTrain = read_data(\"train\", labels_info_train, data_dir)\n",
    "\n",
    "# Read test matrix\n",
    "labels_info_test = pd.read_csv(\"{0}/sampleSubmission.csv\".format(data_dir))\n",
    "xTest  = read_data(\"test\", labels_info_test, data_dir)\n",
    "\n",
    "yTrain = map(lambda x:label_dict[x], labels_info_train[\"Class\"])\n",
    "print(yTrain[1:10])\n",
    "yTrain = np.array(yTrain)\n",
    "print(map(lambda x: labels[x], yTrain[1:10]))\n",
    "\n",
    "print(labels_info_test.head())\n",
    "### shuffle\n",
    "print(xTrain.shape)\n",
    "print(yTrain.shape)\n",
    "\n",
    "\n",
    "\n",
    "#if __name__ == \"__main__\":\n",
    "#    tf.app.run()\n"
   ]
  },
  {
   "cell_type": "code",
   "execution_count": 2,
   "metadata": {
    "collapsed": false
   },
   "outputs": [
    {
     "data": {
      "text/plain": [
       "(6283, 20, 20, 3)"
      ]
     },
     "execution_count": 2,
     "metadata": {},
     "output_type": "execute_result"
    }
   ],
   "source": [
    "xTrain.shape"
   ]
  },
  {
   "cell_type": "code",
   "execution_count": 5,
   "metadata": {
    "collapsed": false
   },
   "outputs": [
    {
     "data": {
      "text/plain": [
       "(array([[[ 148.,   24.,   33.],\n",
       "         [ 152.,   25.,   31.],\n",
       "         [ 169.,   52.,   68.],\n",
       "         ..., \n",
       "         [ 152.,   20.,   30.],\n",
       "         [ 154.,   23.,   28.],\n",
       "         [ 151.,   26.,   30.]],\n",
       " \n",
       "        [[ 154.,   25.,   32.],\n",
       "         [ 152.,   27.,   33.],\n",
       "         [ 153.,   26.,   32.],\n",
       "         ..., \n",
       "         [ 151.,   27.,   33.],\n",
       "         [ 148.,   28.,   33.],\n",
       "         [ 153.,   28.,   34.]],\n",
       " \n",
       "        [[ 152.,   27.,   31.],\n",
       "         [ 155.,   26.,   32.],\n",
       "         [ 153.,   23.,   35.],\n",
       "         ..., \n",
       "         [ 154.,   30.,   33.],\n",
       "         [ 157.,   29.,   36.],\n",
       "         [ 154.,   29.,   33.]],\n",
       " \n",
       "        ..., \n",
       "        [[  52.,   28.,   31.],\n",
       "         [ 105.,   22.,   22.],\n",
       "         [  88.,   26.,   41.],\n",
       "         ..., \n",
       "         [  54.,   22.,   30.],\n",
       "         [  55.,   22.,   34.],\n",
       "         [ 150.,   32.,   29.]],\n",
       " \n",
       "        [[ 156.,   35.,   40.],\n",
       "         [ 156.,   34.,   32.],\n",
       "         [ 160.,   35.,   36.],\n",
       "         ..., \n",
       "         [ 153.,   30.,   29.],\n",
       "         [ 157.,   35.,   33.],\n",
       "         [ 155.,   30.,   28.]],\n",
       " \n",
       "        [[ 161.,   35.,   38.],\n",
       "         [ 161.,   31.,   35.],\n",
       "         [ 164.,   40.,   38.],\n",
       "         ..., \n",
       "         [ 159.,   33.,   34.],\n",
       "         [ 159.,   29.,   39.],\n",
       "         [ 158.,   34.,   36.]]]), 23)"
      ]
     },
     "execution_count": 5,
     "metadata": {},
     "output_type": "execute_result"
    }
   ],
   "source": [
    "xTrain[0],yTrain[0]"
   ]
  },
  {
   "cell_type": "code",
   "execution_count": 6,
   "metadata": {
    "collapsed": false
   },
   "outputs": [
    {
     "data": {
      "text/plain": [
       "(6283, 20, 20, 3)"
      ]
     },
     "execution_count": 6,
     "metadata": {},
     "output_type": "execute_result"
    }
   ],
   "source": [
    "xTrain.shape"
   ]
  },
  {
   "cell_type": "code",
   "execution_count": null,
   "metadata": {
    "collapsed": true
   },
   "outputs": [],
   "source": []
  }
 ],
 "metadata": {
  "kernelspec": {
   "display_name": "Python 2",
   "language": "python",
   "name": "python2"
  },
  "language_info": {
   "codemirror_mode": {
    "name": "ipython",
    "version": 2
   },
   "file_extension": ".py",
   "mimetype": "text/x-python",
   "name": "python",
   "nbconvert_exporter": "python",
   "pygments_lexer": "ipython2",
   "version": "2.7.11"
  }
 },
 "nbformat": 4,
 "nbformat_minor": 0
}
